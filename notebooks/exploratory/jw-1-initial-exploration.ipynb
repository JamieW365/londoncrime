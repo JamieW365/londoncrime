{
 "cells": [
  {
   "cell_type": "markdown",
   "metadata": {},
   "source": [
    "# Initial Exploration of Data\n",
    "\n",
    "The data for this exploration can be found on the opensource London Datastore:\n",
    "* https://data.london.gov.uk/dataset/recorded_crime_summary\n",
    "* https://data.london.gov.uk/dataset/land-area-and-population-density-ward-and-borough\n",
    "\n",
    "## Notes on Recorded Crime Data\n",
    "\n",
    "Data is available in two files for each level of geography - the most up to date data covering the last available 24 months only and one covering all historic full calendar years.\n",
    "\n",
    "In March 2019, the Metropolitan Police Service started to provide offences grouped by the updated Home Office crime classifications . This currently only covers the most recent 24 months of data, but historic data using the previous categories is available separately back to January 2008.\n",
    "\n",
    "Below is a list of the crime types covered under the new HO categories (*not available at LSOA level):\n",
    "\n",
    "<u>Arson and Criminal Damage:</u>\n",
    "* Arson\n",
    "* Criminal Damage\n",
    "\n",
    "<u>Burglary:</u>\n",
    "* Burglary - Business and Community\n",
    "* Burglary - Residential**\n",
    "\n",
    "<u>Drug Offences:</u>\n",
    "* Drug Trafficking\n",
    "* Possession of Drugs\n",
    "\n",
    "<u>Miscellaneous Crimes Against Society:</u> \n",
    "* Absconding from Lawful Custody \n",
    "* Bail Offences\n",
    "* Bigamy \n",
    "* Concealing an Infant Death Close to Birth\n",
    "* Dangerous Driving\n",
    "* Disclosure, Obstruction, False or Misleading State\n",
    "* Exploitation of Prostitution \n",
    "* Forgery or Use of Drug Prescription\n",
    "* Fraud or Forgery Associated with Driver Records \n",
    "* Going Equipped for Stealing \n",
    "* Handling Stolen Goods \n",
    "* Making, Supplying or Possessing Articles for use i \n",
    "* Obscene Publications \n",
    "* Offender Management Act\n",
    "* Other Forgery\n",
    "* Other Notifiable Offences \n",
    "* Perjury \n",
    "* Perverting Course of Justice \n",
    "* Possession of False Documents \n",
    "* Profitting From or Concealing Proceeds of Crime \n",
    "* Soliciting for Prostitution\n",
    "* Threat or Possession With Intent to Commit Crimina \n",
    "* Wildlife Crime\n",
    "\n",
    "<u>Possession of Weapons:</u> \n",
    "* Other Firearm Offences \n",
    "* Possession of Firearm with Intent \n",
    "* Possession of Firearms Offences \n",
    "* Possession of Other Weapon \n",
    "* Possession of Article with Blade or Point\n",
    "\n",
    "<u>Public Order Offences:</u> \n",
    "* Other Offences Against the State, or Public Order \n",
    "* Public Fear Alarm or Distress \n",
    "* Racially or Religiously Aggravated Public Fear \n",
    "* Violent Disorder\n",
    "\n",
    "<u>Robbery:</u> \n",
    "* Robbery of Business Property \n",
    "* Robbery of Personal Property\n",
    "\n",
    "<u>Sexual Offences:</u> \n",
    "* Other Sexual Offences \n",
    "* Rape\n",
    "\n",
    "<u>Theft:</u> \n",
    "* Bicycle Theft \n",
    "* Other Theft \n",
    "* Shoplifting\n",
    "* Theft from Person\n",
    "\n",
    "<u>Vehicle Offences:</u> \n",
    "* Aggravated Vehicle Taking \n",
    "* Interfering with a Motor Vehicle \n",
    "* Theft from a Motor Vehicle \n",
    "* Theft or Taking of a Motor Vehicle\n",
    "\n",
    "<u>Violence Against the Person:</u> \n",
    "* Homicide \n",
    "* Violence with Injury \n",
    "* Violence without Injury\n",
    "\n",
    " Fraud data was transferred from individual police forces to National Action Fraud in March 2013\n",
    "\n",
    "**Prior to April 2017, police recorded burglary offence categories were split such that dwellings (domestic burglary) and buildings other than dwellings (non-domestic burglary) were separately identifiable, where:\n",
    "* domestic burglary covers residential premises, including attached buildings such as garages\n",
    "* non-domestic burglary covers non-residential premises, including businesses and public buildings, as well as non-attached buildings within the grounds of a dwelling, such as sheds and detached garages\n",
    "\n",
    "**From April 2017 onwards a new classification of police recorded burglary was introduced, dividing offences into two categories of “residential” and “business and community”.\n",
    "* “Residential” burglary includes all buildings or parts of buildings that are within the boundary of, or form a part of, a dwelling and includes the dwelling itself, vacant dwellings, sheds, garages, outhouses, summer houses and any other structure that meets the definition of a building. It also includes other premises used for residential purposes such as houseboats, residential care homes and hostels.\n",
    "* “Business and community” burglary includes all buildings or parts of buildings that are used solely and exclusively for business purposes or are otherwise entirely outside the classification of residential burglary.\n",
    "\n",
    "## Notes on Population Density Data\n",
    "\n",
    "Land area and population density figures for 2001 to 2050 for wards and boroughs. Ward data begins in 2011.\n",
    "\n",
    "Population figure included are GLA estimate (2016-based projections), 2011 Census and ONS Mid-year Estimates.\n",
    "\n",
    "Inland area takes account of water line. Areas with large bodies of water will have a smaller inland area than total area since some of the area will be water.\n",
    "\n",
    "Land area figures are taken from Ordnance Survey boundaries using MapInfo."
   ]
  },
  {
   "cell_type": "markdown",
   "metadata": {},
   "source": [
    "## Imports"
   ]
  },
  {
   "cell_type": "code",
   "execution_count": 1,
   "metadata": {},
   "outputs": [],
   "source": [
    "%load_ext autoreload\n",
    "%autoreload 2\n",
    "import pandas as pd\n",
    "import numpy as np\n",
    "import matplotlib.pyplot as plt\n",
    "import seaborn as sns"
   ]
  },
  {
   "cell_type": "markdown",
   "metadata": {},
   "source": [
    "## Fixed Variables"
   ]
  },
  {
   "cell_type": "code",
   "execution_count": null,
   "metadata": {},
   "outputs": [],
   "source": [
    "url_borough_historical = 'https://data.london.gov.uk/download/recorded_crime_summary/934f2ddb-5804-4c6a-a17c-bdd79b33430e/MPS%20Borough%20Level%20Crime%20%28Historical%29.csv0'\n",
    "url_borough_current = 'https://data.london.gov.uk/download/recorded_crime_summary/f2cf9458-24f0-47fa-bfc0-54b8d35be628/MPS%20Borough%20Level%20Crime%20%28most%20recent%2024%20months%29.csv'"
   ]
  },
  {
   "cell_type": "markdown",
   "metadata": {},
   "source": [
    "## High Level Data Exploration "
   ]
  },
  {
   "cell_type": "markdown",
   "metadata": {},
   "source": [
    "### Borough Crime Data"
   ]
  },
  {
   "cell_type": "code",
   "execution_count": null,
   "metadata": {},
   "outputs": [],
   "source": [
    "df_historical = pd.read_csv(url_borough_historical)\n",
    "df_current = pd.read_csv(url_borough_current)"
   ]
  },
  {
   "cell_type": "code",
   "execution_count": null,
   "metadata": {},
   "outputs": [],
   "source": [
    "df_historical.head()"
   ]
  },
  {
   "cell_type": "code",
   "execution_count": null,
   "metadata": {},
   "outputs": [],
   "source": [
    "df_current.head()"
   ]
  },
  {
   "cell_type": "markdown",
   "metadata": {},
   "source": [
    "Both current and historical crime datasets share the same format:\n",
    "* MajorText - crime category\n",
    "* MinorText - specific crime\n",
    "* LookUp_BoroughName - borough\n",
    "* yyyymm - year and month columns containing specific crime counts at borough levels\n",
    "\n",
    "Historical data ends at 2021/11 with current data beginning at 2021/12 running up to the current date"
   ]
  },
  {
   "cell_type": "code",
   "execution_count": null,
   "metadata": {},
   "outputs": [],
   "source": [
    "df_historical.shape, df_current.shape"
   ]
  },
  {
   "cell_type": "markdown",
   "metadata": {},
   "source": [
    "Both datasets have a different shape\n",
    "\n",
    "We expect column counts to be different due to the different time periods in which the data covers, however different row counts suggest some combinations of MajorText/MinorText/LookUp_BoroughName do not align in each data set\n",
    "\n",
    "Let's see if each dataset is populated with the same values"
   ]
  },
  {
   "cell_type": "code",
   "execution_count": null,
   "metadata": {},
   "outputs": [],
   "source": [
    "set(df_historical['MajorText']) == set(df_current['MajorText']), \\\n",
    "set(df_historical['MinorText']) == set(df_current['MinorText']), \\\n",
    "set(df_historical['LookUp_BoroughName']) == set(df_current['LookUp_BoroughName'])"
   ]
  },
  {
   "cell_type": "markdown",
   "metadata": {},
   "source": [
    "Each dataset contains the same unique entries in Major/Minor/Borough columns, we I shall explore which combinations are uncommon and begin to investigate why"
   ]
  },
  {
   "cell_type": "code",
   "execution_count": null,
   "metadata": {},
   "outputs": [],
   "source": [
    "# By concatenating and dropping duplicates I can highlight combinations that are unique to one dataset or the other\n",
    "# I'm adding a prefix to the index so that I can retain knowledge of which dataset the unique combination comes from for investigative purposes\n",
    "\n",
    "df_unique = pd.concat([df_current[['MajorText', 'MinorText', 'LookUp_BoroughName']].add_prefix('current_', axis=0),\n",
    "                       df_historical[['MajorText', 'MinorText', 'LookUp_BoroughName']].add_prefix('historical_', axis=0)]).drop_duplicates(keep=False)\n",
    "df_unique"
   ]
  },
  {
   "cell_type": "markdown",
   "metadata": {},
   "source": [
    "There are a total of 181 combinations that are uncommon between both datasets.\n",
    "\n",
    "I suspect that combinations may be missing in either data set due to one of two reasons:\n",
    "* A particular crime having not been recorded in the time period within a borough\n",
    "* A particular crime no longer being recorded beyond a certain time point\n",
    "\n",
    "I will begin to explore the numbers below to highlight any trends, this will provide reasoning for dropping, nulling or zeroing in data where it is missing."
   ]
  },
  {
   "cell_type": "code",
   "execution_count": null,
   "metadata": {},
   "outputs": [],
   "source": [
    "len(df_unique['MajorText'].value_counts(ascending=True))"
   ]
  },
  {
   "cell_type": "code",
   "execution_count": null,
   "metadata": {},
   "outputs": [],
   "source": [
    "fig, ax = plt.subplots(figsize=(10,len(df_unique['MajorText'].value_counts())/3), constrained_layout=True)\n",
    "ax.set_title('Counts of Major Crimes; Unique to Hstorical or Current Data')\n",
    "sns.countplot(y='MajorText', data=df_unique, order=df_unique['MajorText'].value_counts().index, width=0.6);"
   ]
  },
  {
   "cell_type": "code",
   "execution_count": null,
   "metadata": {},
   "outputs": [],
   "source": [
    "fig, ax = plt.subplots(figsize=(10,df_unique['MinorText'].nunique()/3), constrained_layout=True)\n",
    "ax.set_title('Counts of Minor Crimes; Unique to Hstorical or Current Data')\n",
    "sns.countplot(y='MinorText', data=df_unique, hue='MajorText', order=df_unique['MinorText'].value_counts().index, width=0.6);"
   ]
  },
  {
   "cell_type": "code",
   "execution_count": null,
   "metadata": {},
   "outputs": [],
   "source": [
    "fig, ax = plt.subplots(figsize=(10,len(df_unique['LookUp_BoroughName'].value_counts())/3), constrained_layout=True)\n",
    "ax.set_title('Crime Counts by Borough; Unique to Hstorical or Current Data')\n",
    "df_unique['LookUp_BoroughName'].value_counts(ascending=True).plot(kind='barh', width=0.6);"
   ]
  },
  {
   "cell_type": "markdown",
   "metadata": {},
   "source": [
    "The above counts highlight a few things:\n",
    "* Miscellaneous crime are most commonly absent - however this is a large catergory filled with more obscure crimes so it not a surprise to see it rank highly\n",
    "* Minor category crimes link one-to-one with boroughs - Historical Fraud and Forgery and Wildlife Crime rank particularly high here and will be investigated\n",
    "* I will investigate crime levels in Boroughs that rank highly on this list"
   ]
  },
  {
   "cell_type": "code",
   "execution_count": null,
   "metadata": {},
   "outputs": [],
   "source": [
    "df_temp = df_historical.loc[[int(x.split('_')[-1]) for x in df_unique.filter(like='historical', axis=0).index]].groupby('MinorText').sum(numeric_only=True).reset_index()\n",
    "\n",
    "fig, axes = plt.subplots(nrows=int(np.ceil(len(df_temp)/2)), ncols=2, figsize=(10,len(df_temp) + np.mod(len(df_temp), 2)), constrained_layout=True)\n",
    "fig.suptitle('Crime Trends Unique to Historical Data', fontsize=20)\n",
    "\n",
    "if np.mod(len(df_temp), 2):\n",
    "    axes[-1, -1].set_axis_off()\n",
    "\n",
    "for index, row in df_temp.iterrows():\n",
    "\n",
    "    ax=axes[int(np.floor(index/2)), np.mod(index, 2)]\n",
    "    row[1:].plot(ax=ax, title=row.iloc[0])"
   ]
  },
  {
   "cell_type": "markdown",
   "metadata": {},
   "source": [
    "Most crimes in the above figure show a sporadic trend, and so it is conceivable that they have simply not occured within the current dataset.\n",
    "\n",
    "A few crimes show a spike at some point in the historical data set: Bail Offences, Soliciting for Prostitution, Violent Disorder & Wildlife Crime. However, they show a more sporadic trend in the most recent months, and so again, it is conceivable that they have simply not occured within the current dataset. It may be worth investigating the reasoning for these spikes and drop-offs, such as changes in recording of crime, political campaigns and/or any socio-economic changes, however I will leave such in-depth investigation out of scope for this project.\n",
    "\n",
    "There is one chart that stands out in the above figure, and that is Historical Fraud and Forgery. After initially recording rather high numbers of crime, there is a very sudden drop off, I will investigate further"
   ]
  },
  {
   "cell_type": "code",
   "execution_count": null,
   "metadata": {},
   "outputs": [],
   "source": [
    "df_temp = df_current.loc[[int(x.split('_')[-1]) for x in df_unique.filter(like='current', axis=0).index]].groupby('MinorText').sum(numeric_only=True).reset_index()\n",
    "\n",
    "fig, axes = plt.subplots(nrows=int(np.ceil(len(df_temp)/2)), ncols=2, figsize=(10,len(df_temp) + np.mod(len(df_temp), 2)), constrained_layout=True)\n",
    "fig.suptitle('Crime Trends Unique to Current Data', fontsize=20)\n",
    "\n",
    "if np.mod(len(df_temp), 2):\n",
    "    axes[-1, -1].set_axis_off()\n",
    "\n",
    "for index, row in df_temp.iterrows():\n",
    "\n",
    "    ax=axes[int(np.floor(index/2)), np.mod(index, 2)]\n",
    "    row[1:].plot(ax=ax, title=row.iloc[0])"
   ]
  },
  {
   "cell_type": "markdown",
   "metadata": {},
   "source": [
    "The crimes shown above are unique to the current dataset, and they all show a very sporadic trend in recorded crime. I will assume that they are not included in the historical dataset due to low level recording of these crimes."
   ]
  },
  {
   "cell_type": "code",
   "execution_count": null,
   "metadata": {},
   "outputs": [],
   "source": [
    "df_temp = df_historical.loc[[int(x.split('_')[-1]) for x in df_unique.filter(like='historical', axis=0).index]].groupby('LookUp_BoroughName').sum(numeric_only=True).reset_index()\n",
    "\n",
    "fig, axes = plt.subplots(nrows=int(np.ceil(len(df_temp)/2)), ncols=2, figsize=(10,len(df_temp) + np.mod(len(df_temp), 2)), constrained_layout=True)\n",
    "fig.suptitle('Crime Trends by Borough; Unique to Historical Data', fontsize=20)\n",
    "\n",
    "if np.mod(len(df_temp), 2):\n",
    "    axes[-1, -1].set_axis_off()\n",
    "\n",
    "for index, row in df_temp.iterrows():\n",
    "\n",
    "    ax=axes[int(np.floor(index/2)), np.mod(index, 2)]\n",
    "    row[1:].plot(ax=ax, title=row.iloc[0])"
   ]
  },
  {
   "cell_type": "markdown",
   "metadata": {},
   "source": [
    "The above charts appear to be heavily influenced by the trend in recorded Historical Fraud and Forgery"
   ]
  },
  {
   "cell_type": "code",
   "execution_count": null,
   "metadata": {},
   "outputs": [],
   "source": [
    "df_temp = df_current.loc[[int(x.split('_')[-1]) for x in df_unique.filter(like='current', axis=0).index]].groupby('LookUp_BoroughName').sum(numeric_only=True).reset_index()\n",
    "\n",
    "fig, axes = plt.subplots(nrows=int(np.ceil(len(df_temp)/2)), ncols=2, figsize=(10, len(df_temp) + np.mod(len(df_temp), 2)), constrained_layout=True)\n",
    "fig.suptitle('Crime Trends by Borough; Unique to Historical Data', fontsize=20)\n",
    "\n",
    "if np.mod(len(df_temp), 2):\n",
    "    axes[-1, -1].set_axis_off()\n",
    "\n",
    "for index, row in df_temp.iterrows():\n",
    "\n",
    "    ax=axes[int(np.floor(index/2)), np.mod(index, 2)]\n",
    "    row[1:].plot(ax=ax, title=row.iloc[0])"
   ]
  },
  {
   "cell_type": "markdown",
   "metadata": {},
   "source": [
    "The crimes shown above are unique to the current dataset, and they all show a very sporadic trend in recorded crime. I will assume that they are not included in the historical dataset due to low level recording of these crimes."
   ]
  },
  {
   "cell_type": "markdown",
   "metadata": {},
   "source": [
    "#### Historical Fraud and Forgery"
   ]
  },
  {
   "cell_type": "code",
   "execution_count": null,
   "metadata": {},
   "outputs": [],
   "source": [
    "df_unique[df_unique['MinorText']=='Historical Fraud and Forgery']"
   ]
  },
  {
   "cell_type": "code",
   "execution_count": null,
   "metadata": {},
   "outputs": [],
   "source": [
    "df_current[df_current['MinorText']=='Historical Fraud and Forgery']"
   ]
  },
  {
   "cell_type": "markdown",
   "metadata": {},
   "source": [
    "Historical Fraud and Forgery appears overwhelmingly in the historical data, and only once in the current dataset. \n",
    "\n",
    "Noteably the one occurance appears in 2021/12 which is the earliest point in the dataset."
   ]
  },
  {
   "cell_type": "code",
   "execution_count": null,
   "metadata": {},
   "outputs": [],
   "source": [
    "df_historical[df_historical['MinorText']=='Historical Fraud and Forgery'].sum()[3:].plot()"
   ]
  },
  {
   "cell_type": "code",
   "execution_count": null,
   "metadata": {},
   "outputs": [],
   "source": [
    "df_historical[df_historical['MinorText']=='Historical Fraud and Forgery'].sum()['201112':'201308'].plot(kind='bar')"
   ]
  },
  {
   "cell_type": "markdown",
   "metadata": {},
   "source": [
    "The above plots show a sudden drop off in recorded Historical Fraud and Forgery around 2013/02\n",
    "\n",
    "Taken from the dataset notes:\n",
    "* Fraud data was transferred from individual police forces to National Action Fraud in March 2013\n",
    "\n",
    "Due to a short timeline of data that is no longer relevent, I will make the decision to drop Historical Fraud and Forgery from both historical and current datasets"
   ]
  },
  {
   "cell_type": "code",
   "execution_count": null,
   "metadata": {},
   "outputs": [],
   "source": [
    "df_historical.drop(df_historical[df_historical['MinorText']=='Historical Fraud and Forgery'].index, inplace=True)\n",
    "df_current.drop(df_historical[df_historical['MinorText']=='Historical Fraud and Forgery'].index, inplace=True)"
   ]
  },
  {
   "cell_type": "code",
   "execution_count": null,
   "metadata": {},
   "outputs": [],
   "source": [
    "# By concatenating and dropping duplicates I can highlight combinations that are unique to one dataset or the other\n",
    "# I'm adding a prefix to the index so that I can retain knowledge of which dataset the unique combination comes from for investigative purposes\n",
    "\n",
    "df_unique = pd.concat([df_current[['MajorText', 'MinorText', 'LookUp_BoroughName']].add_prefix('current_', axis=0),\n",
    "                       df_historical[['MajorText', 'MinorText', 'LookUp_BoroughName']].add_prefix('historical_', axis=0)]).drop_duplicates(keep=False)\n",
    "df_unique"
   ]
  },
  {
   "cell_type": "code",
   "execution_count": null,
   "metadata": {},
   "outputs": [],
   "source": [
    "df_temp = df_historical.loc[[int(x.split('_')[-1]) for x in df_unique.filter(like='historical', axis=0).index]].groupby('LookUp_BoroughName').sum(numeric_only=True).reset_index()\n",
    "\n",
    "fig, axes = plt.subplots(nrows=int(np.ceil(len(df_temp)/2)), ncols=2, figsize=(10,len(df_temp) + np.mod(len(df_temp), 2)), constrained_layout=True)\n",
    "fig.suptitle('Crime Trends by Borough; Unique to Historical Data', fontsize=20)\n",
    "\n",
    "if np.mod(len(df_temp), 2):\n",
    "    axes[-1, -1].set_axis_off()\n",
    "\n",
    "for index, row in df_temp.iterrows():\n",
    "\n",
    "    ax=axes[int(np.floor(index/2)), np.mod(index, 2)]\n",
    "    row[1:].plot(ax=ax, title=row.iloc[0])"
   ]
  },
  {
   "cell_type": "code",
   "execution_count": null,
   "metadata": {},
   "outputs": [],
   "source": [
    "df_current.isna().sum().any(), df_historical.isna().sum().any()"
   ]
  },
  {
   "cell_type": "code",
   "execution_count": null,
   "metadata": {},
   "outputs": [],
   "source": [
    "df_historical.head()"
   ]
  },
  {
   "cell_type": "code",
   "execution_count": null,
   "metadata": {},
   "outputs": [],
   "source": [
    "df_historical.shape, df_current.shape"
   ]
  },
  {
   "cell_type": "code",
   "execution_count": null,
   "metadata": {},
   "outputs": [],
   "source": [
    "pd.concat([df_historical, df_current], ignore_index=True, keys=('MajorText', 'MinorText', 'LookUp_BoroughName'), axis=1)"
   ]
  },
  {
   "cell_type": "code",
   "execution_count": null,
   "metadata": {},
   "outputs": [],
   "source": [
    "df_total = df_historical.merge(df_current, how='outer', on=('MajorText', 'MinorText', 'LookUp_BoroughName')).fillna(0)\n",
    "df_total"
   ]
  },
  {
   "cell_type": "code",
   "execution_count": null,
   "metadata": {},
   "outputs": [],
   "source": [
    "1713*167"
   ]
  },
  {
   "cell_type": "code",
   "execution_count": null,
   "metadata": {},
   "outputs": [],
   "source": [
    "df_total.head()"
   ]
  },
  {
   "cell_type": "code",
   "execution_count": null,
   "metadata": {},
   "outputs": [],
   "source": [
    "df_reshaped = df_total.set_index(['MajorText', 'MinorText', 'LookUp_BoroughName']).stack().reset_index().copy()\n",
    "df_reshaped.head()"
   ]
  },
  {
   "cell_type": "code",
   "execution_count": null,
   "metadata": {},
   "outputs": [],
   "source": [
    "df_reshaped.dtypes"
   ]
  },
  {
   "cell_type": "code",
   "execution_count": null,
   "metadata": {},
   "outputs": [],
   "source": [
    "from datetime import datetime"
   ]
  },
  {
   "cell_type": "code",
   "execution_count": null,
   "metadata": {},
   "outputs": [],
   "source": [
    "datetime.strptime('201004', '%Y%m')"
   ]
  },
  {
   "cell_type": "code",
   "execution_count": null,
   "metadata": {},
   "outputs": [],
   "source": [
    "df_reshaped['level_3']"
   ]
  },
  {
   "cell_type": "code",
   "execution_count": null,
   "metadata": {},
   "outputs": [],
   "source": [
    "df_reshaped['level_3'] = pd.to_datetime(df_reshaped['level_3'], format='%Y%m')\n",
    "df_reshaped"
   ]
  },
  {
   "cell_type": "code",
   "execution_count": null,
   "metadata": {},
   "outputs": [],
   "source": [
    "df_reshaped['level_3'].value_counts()"
   ]
  },
  {
   "cell_type": "code",
   "execution_count": null,
   "metadata": {},
   "outputs": [],
   "source": [
    "df_reshaped.set_index('level_3', inplace=True)\n",
    "df_reshaped"
   ]
  }
 ],
 "metadata": {
  "kernelspec": {
   "display_name": "env",
   "language": "python",
   "name": "python3"
  },
  "language_info": {
   "codemirror_mode": {
    "name": "ipython",
    "version": 3
   },
   "file_extension": ".py",
   "mimetype": "text/x-python",
   "name": "python",
   "nbconvert_exporter": "python",
   "pygments_lexer": "ipython3",
   "version": "3.10.12"
  }
 },
 "nbformat": 4,
 "nbformat_minor": 2
}
